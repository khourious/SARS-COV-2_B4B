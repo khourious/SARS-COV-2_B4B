{
  "cells": [
    {
      "cell_type": "markdown",
      "metadata": {
        "id": "JyG45Qk3qQLS"
      },
      "source": [
        "# Nanopore SARS-CoV-2 analysis\n",
        "In this notebook we will process the results from the Nanopore run analyzed previously. In this case, the results from the **\"[Midnight Protocol](https://labs.epi2me.io/sarscov2-midnight-analysis/)\"** will be processed with a a pipeline named epi2me-lab/wf-artic that will take the reads and run the following steps:\n"
      ]
    },
    {
