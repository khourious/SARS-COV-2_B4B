{
  "cells": [
    {
      "cell_type": "markdown",
      "metadata": {
        "id": "JyG45Qk3qQLS"
      },
      "source": [
        "# Análise Nanopore do SARS-CoV-2\n",
        "Nesse notebook processaremos os resultados da execução do Nanopore analisados anteriormente. Neste caso, os resultados do **\"[Midnight Protocol](https://labs.epi2me.io/sarscov2-midnight-analysis/) \"** será processado com um pipeline chamado epi2me-lab/wf-artic que fará as leituras e executará as seguintes etapas:\n"
      ]
    },
    {
      "cell_type": "markdown",
      "source": [
        "* Instalar software e preparar ambiente\n",
        "* Execute um pipeline de geração de consenso do genoma\n",
        "* Analisar os resultados"
      ],
      "metadata": {
        "id": "2vctxx9r7P6L"
      }
    },
    {
      "cell_type": "markdown",
      "source": [
        "## Instale o condacolab"
      ],
      "metadata": {
        "id": "33ZISlFh92bZ"
      }
    },
    {
      "cell_type": "code",
      "source": [
        "!pip install -q condacolab\n",
        "import condacolab\n",
        "condacolab.install()"
      ],
      "metadata": {
        "id": "jymSg1rN92Ak"
      },
      "execution_count": null,
      "outputs": []
    },
    {
      "cell_type": "markdown",
      "source": [
        "Verifique conda usando o próximo comando. Se nenhum erro aparecer, você está pronto para ir."
      ],
      "metadata": {
        "id": "3usuHtV9CXQg"
      }
    },
    {
      "cell_type": "code",
      "source": [
        "!conda -h"
      ],
      "metadata": {
        "id": "Y6YoksIiBxcA"
      },
      "execution_count": null,
      "outputs": []
    },
    {
