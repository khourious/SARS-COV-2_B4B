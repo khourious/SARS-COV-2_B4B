{
  "cells": [
    {
      "cell_type": "markdown",
      "metadata": {
        "id": "JyG45Qk3qQLS"
      },
      "source": [
        "# Análise Nanopore do SARS-CoV-2\n",
        "Nesse notebook processaremos os resultados da execução do Nanopore analisados anteriormente. Neste caso, os resultados do **\"[Midnight Protocol](https://labs.epi2me.io/sarscov2-midnight-analysis/) \"** será processado com um pipeline chamado epi2me-lab/wf-artic que fará as leituras e executará as seguintes etapas:\n"
      ]
    },
    {
