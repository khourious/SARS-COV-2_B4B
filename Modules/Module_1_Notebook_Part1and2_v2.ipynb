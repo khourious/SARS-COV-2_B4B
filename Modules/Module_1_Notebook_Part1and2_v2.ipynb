{
  "nbformat": 4,
  "nbformat_minor": 0,
  "metadata": {
    "colab": {
      "provenance": [],
      "collapsed_sections": []
    },
    "kernelspec": {
      "name": "python3",
      "display_name": "Python 3"
    },
    "language_info": {
      "name": "python"
    }
  },
  "cells": [
    {
      "cell_type": "markdown",
      "source": [
        "# Módulo 1: Introdução aos notebooks e ao Unix\n",
        "\n",
        "Bem-vindo ao curso! Existem algumas instruções muito importantes para você seguir:\n",
        "\n",
        "1.) Clique em Arquivo no canto superior esquerdo e selecione Salvar uma cópia no Drive\n",
        "\n",
        "**Suas alterações não serão salvas se você não seguir este passo**\n",
        "\n",
        "2.) Clique no nome do caderno no canto superior esquerdo e substitua \"Cópia de\" pelo seu nome completo\n",
        "\n",
        "**Você estará enviando o arquivo do notebook baixado como prova de conclusão deste módulo**\n"
      ],
      "metadata": {
        "id": "VZpWDT_qK5mE"
      }
    },
    {
      "cell_type": "markdown",
      "source": [
        "Digite o seguinte:\n",
        "```\n",
        "print(\"Sim, eu concluí o passo 1\") \n",
        "```\n",
        "no bloco de código abaixo e execute clicando no ícone de \"triângulo\"/\"Reproduzir\".\n",
        "\n"
      ],
      "metadata": {
        "id": "HkAHdwWUJKoZ"
      }
    },
    {
      "cell_type": "code",
      "source": [
        "#este bloco será verificado"
      ],
      "metadata": {
        "id": "lza1ngCWKHbX"
      },
      "execution_count": null,
      "outputs": []
    },
    {
      "cell_type": "markdown",
      "source": [
        "Digite o seguinte:\n",
        "```\n",
        "print(\"Sim, eu concluí o passo 2\") \n",
        "```\n",
        "no bloco de código abaixo e execute clicando no ícone de \"triângulo\"/\"Reproduzir\".\n",
        "\n"
      ],
      "metadata": {
        "id": "l166Rx0ZKLqh"
      }
    },
    {
      "cell_type": "code",
      "source": [
        "#este bloco será verificado"
      ],
      "metadata": {
        "id": "nsufot4fKS01"
      },
      "execution_count": null,
      "outputs": []
    },
    {
      "cell_type": "markdown",
      "source": [
        "# Instalando o Conda\n",
        "O Conda é uma ferramenta versátil de gerenciamento de software. O Conda é um sistema de gerenciamento de ferramentas e bibliotecas de código aberto. Mais informações sobre a biblioteca usada para instalar o Conda no Google Colab podem ser encontradas neste [site](https://inside-machinelearning.com/en/how-to-install-use-conda-on-google-colab/)\n",
        "\n",
        "Observação - seu ambiente de execução será atualizado e reconectado após executar este bloco. Ele exibirá \"falha no ambiente de execução\", isso parece normal, aguarde a sessão reconectar após isso.\n",
        "\n",
        "\n",
        "Você pode conferir este repositório para entender como essa ferramenta funciona:\n",
        "https://github.com/conda-incubator/condacolab \n"
      ],
      "metadata": {
        "id": "G7mk1VecOHLQ"
      }
    },
    {
      "cell_type": "code",
      "source": [
        "!pip install -q condacolab\n",
        "import condacolab\n",
        "condacolab.install()"
      ],
      "metadata": {
        "id": "jOTBUZ3gOFm3"
      },
      "execution_count": null,
      "outputs": []
    },
    {
      "cell_type": "markdown",
      "source": [
        "# Módulo 1 Parte 1 - Introdução aos Notebooks e ao Unix\n",
        "Parte 1 do Módulo 1 começa aqui."
      ],
      "metadata": {
        "id": "MY1JBynBfoUT"
      }
    },
    {
      "cell_type": "markdown",
      "source": [
        "# Python vs Bash\n",
        "## Principais diferenças ao trabalhar no Google Colab\n",
        "\n",
        "\n",
        "As principais diferenças são o uso de ! ao querer executar comandos bash. Não use isso ao querer que o Python execute."
      ],
      "metadata": {
        "id": "p5SImQk-LGMe"
      }
    },
    {
      "cell_type": "code",
      "execution_count": null,
      "metadata": {
        "id": "dvo4cVYzKyzY"
      },
      "outputs": [],
      "source": [
        "#exemplo de Python\n",
        "print(\"Este é um comando Python\")"
      ]
    },
    {
      "cell_type": "code",
      "source": [
        "#exemplo de bash\n",
        "!echo \"Este é um comando bash\""
      ],
      "metadata": {
        "id": "1yjkW5M7LbMz"
      },
      "execution_count": null,
      "outputs": []
    },
    {
      "cell_type": "markdown",
      "source": [
        "Se você esquecer de usar o símbolo !, ocorrerá um erro, pois o Python provavelmente não conseguirá interpretar seu comando bash - tente executar a célula abaixo."
      ],
      "metadata": {
        "id": "3NH2ZaGwIuqP"
      }
    },
    {
      "cell_type": "code",
      "source": [
        "#exemplo de esquecimento do ! ao tentar executar um comando bash\n",
        "echo \"Este é um comando bash\""
      ],
      "metadata": {
        "id": "HRf3XhgVF1xT",
        "colab": {
          "base_uri": "https://localhost:8080/",
          "height": 130
        },
        "outputId": "c18707cc-9965-4faf-ea01-f576787ac6d9"
      },
      "execution_count": null,
      "outputs": [
        {
          "output_type": "error",
          "ename": "SyntaxError",
          "evalue": "ignored",
          "traceback": [
            "\u001b[0;36m  File \u001b[0;32m\"<ipython-input-2-7b2f3893ce2e>\"\u001b[0;36m, line \u001b[0;32m2\u001b[0m\n\u001b[0;31m    echo \"Este é um comando bash\"\u001b[0m\n\u001b[0m                                ^\u001b[0m\n\u001b[0;31mSyntaxError\u001b[0m\u001b[0;31m:\u001b[0m invalid syntax\n"
          ]
        }
      ]
    },
    {
      "cell_type": "markdown",
      "source": [
        "Se você esquecer de usar o símbolo !, ocorrerá um erro, pois o Python provavelmente não conseguirá interpretar seu comando bash - tente executar a célula abaixo."
      ],
      "metadata": {
        "id": "3NH2ZaGwIuqP"
      }
    }
  ]
}
