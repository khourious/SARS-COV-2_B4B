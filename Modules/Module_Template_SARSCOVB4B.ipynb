{
  "cells": [
    {
      "attachments": {},
      "cell_type": "markdown",
      "metadata": {
        "id": "VZpWDT_qK5mE"
      },
      "source": [
        "# Módulo 1: Module_Template_SARSCOVB4B\n",
        "\n",
        "Bem-vindo ao módulo! Existem algumas instruções muito importantes para você seguir:\n",
        "\n",
        "1.) Clique em Arquivo no canto superior esquerdo e selecione salvar uma cópia na unidade\n",
        "\n",
        "**Suas alterações não serão salvas se você não fizer esta etapa**\n",
        "\n",
        "2.) Clique no nome da pasta de trabalho no canto superior esquerdo e substitua \"Cópia de\" pelo seu nome completo\n",
        "\n",
        "**Você enviará o arquivo do notebook baixado como prova de conclusão deste módulo**"
      ]
    },
    {
      "attachments": {},
      "cell_type": "markdown",
      "metadata": {
        "id": "HkAHdwWUJKoZ"
      },
      "source": [
        "Por favor digite:\n",
        "```\n",
        "print(\"Sim, fiz o passo 1\")\n",
        "```\n",
        "no bloco de código abaixo e, em seguida, execute clicando no ícone \"triângulo\"/\"Play\" nesse bloco\n"
      ]
    },
    {
      "cell_type": "code",
      "execution_count": 3,
      "metadata": {
        "id": "lza1ngCWKHbX"
      },
      "outputs": [],
      "source": [
        "#este bloco será verificado"
      ]
    },
    {
      "attachments": {},
      "cell_type": "markdown",
      "metadata": {
        "id": "l166Rx0ZKLqh"
      },
      "source": [
        "Por favor digite:\n",
        "```\n",
        "print(\"Sim, concluí o passo 2\")\n",
        "```\n",
        "no bloco de código abaixo e, em seguida, execute clicando no ícone \"triângulo\"/\"Play\" nesse bloco\n",
        "\n"
      ]
    },
    {
      "cell_type": "code",
      "execution_count": null,
      "metadata": {
        "id": "nsufot4fKS01"
      },
      "outputs": [],
      "source": [
        "#este bloco será verificado"
      ]
    },
    {
      "cell_type": "code",
      "execution_count": null,
      "metadata": {
        "id": "UfwLtJgMN8Js"
      },
      "outputs": [],
      "source": []
    },
    {
      "attachments": {},
      "cell_type": "markdown",
      "metadata": {
        "id": "G7mk1VecOHLQ"
      },
      "source": [
        "# Instalando Conda\n",
        "Conda é uma ferramenta de gerenciamento de software versátil. Conda é um sistema de código aberto para gerenciamento de ferramentas e bibliotecas. Mais informações sobre a biblioteca usada para instalar o conda no Google Colab estão neste [site](https://inside-machinelearning.com/en/how-to-install-use-conda-on-google-colab/)\n",
        "\n",
        "Observação - seu tempo de execução será atualizado e reconectado após a execução. Ele dirá que o tempo de execução travou, isso parece normal, aguarde a reconexão da sessão depois disso.\n",
        "\n",
        "Você pode conferir este repositório para saber como essa ferramenta funciona:\n",
        "https://github.com/conda-incubator/condacolab"
      ]
    },
    {
      "cell_type": "code",
      "execution_count": 8,
      "metadata": {
        "colab": {
          "base_uri": "https://localhost:8080/"
        },
        "id": "jOTBUZ3gOFm3",
        "outputId": "a755ca0f-8c3d-4fed-cd99-7c57f129d14d"
      },
      "outputs": [
        {
          "name": "stdout",
          "output_type": "stream",
          "text": [
            "⏬ Downloading https://github.com/jaimergp/miniforge/releases/latest/download/Mambaforge-colab-Linux-x86_64.sh...\n",
            "📦 Installing...\n",
            "📌 Adjusting configuration...\n",
            "🩹 Patching environment...\n",
            "⏲ Done in 0:00:35\n",
            "🔁 Restarting kernel...\n"
          ]
        }
      ],
      "source": [
        "!pip install -q condacolab\n",
        "import condacolab\n",
        "condacolab.install()"
      ]
    },
    {
      "attachments": {},
      "cell_type": "markdown",
      "metadata": {
        "id": "p5SImQk-LGMe"
      },
      "source": [
        "#Python vs Bash\n",
        "## Principais diferenças ao trabalhar no Google Colab\n",
        "\n",
        "\n",
        "As principais diferenças são usar um ! ao querer executar comandos bash. Não coloque isso quando quiser que o Python execute"
      ]
    },
    {
      "cell_type": "code",
      "execution_count": null,
      "metadata": {
        "id": "dvo4cVYzKyzY"
      },
      "outputs": [],
      "source": [
        "#exemplo de python\n",
        "print(\"Este é um comando python\")"
      ]
    },
    {
      "cell_type": "code",
      "execution_count": null,
      "metadata": {
        "id": "1yjkW5M7LbMz"
      },
      "outputs": [],
      "source": [
        "#exemplo de bash\n",
        "!echo \"Este é um comando bash\""
      ]
    },
    {
      "attachments": {},
      "cell_type": "markdown",
      "metadata": {
        "id": "v7JT--TJLeSS"
      },
      "source": [
        "Próxima seção\n",
        "Gerenciamento de diretório"
      ]
    },
    {
      "cell_type": "code",
      "execution_count": null,
      "metadata": {
        "id": "4WYbAqPDLicJ"
      },
      "outputs": [],
      "source": []
    },
    {
      "attachments": {},
      "cell_type": "markdown",
      "metadata": {
        "id": "971FGhBBLjJv"
      },
      "source": [
        "# Questões práticas\n",
        "Responda às seguintes perguntas nos blocos de código abaixo\n",
        "\n",
        "1. Crie um diretório chamado my_new_directory\n",
        "2. Crie um arquivo chamado my_new_file.txt em my_new_directory\n",
        "3. Qual é o caminho absoluto para o recém-criado my_new_file.txt"
      ]
    },
    {
      "cell_type": "code",
      "execution_count": null,
      "metadata": {
        "id": "n3o_SjC2L4KG"
      },
      "outputs": [],
      "source": [
        "# 1. Crie um diretório chamado my_new_directory\n",
        "# introduzir o seu código abaixo"
      ]
    },
    {
      "cell_type": "code",
      "execution_count": null,
      "metadata": {
        "id": "DcWtwQR8L8jh"
      },
      "outputs": [],
      "source": [
        "# 2. Crie um arquivo chamado my_new_file.txt em my_new_directory\n",
        "# introduzir o seu código abaixo"
      ]
    },
    {
      "cell_type": "code",
      "execution_count": null,
      "metadata": {
        "id": "yLfNEOo2MjAk"
      },
      "outputs": [],
      "source": [
        "# 3. Qual é o caminho absoluto para o recém-criado my_new_file.txt\n",
        "# introduzir o seu código abaixo"
      ]
    }
  ],
  "metadata": {
    "colab": {
      "collapsed_sections": [],
      "name": "Module_Template_SARSCOVB4B.ipynb",
      "provenance": []
    },
    "kernelspec": {
      "display_name": "Python 3",
      "name": "python3"
    },
    "language_info": {
      "name": "python"
    }
  },
  "nbformat": 4,
  "nbformat_minor": 0
}
