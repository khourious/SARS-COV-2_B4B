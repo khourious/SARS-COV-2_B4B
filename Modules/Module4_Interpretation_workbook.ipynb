{
  "cells": [
    {
      "attachments": {},
      "cell_type": "markdown",
      "metadata": {
        "id": "HTAcxxiLtcAx"
      },
      "source": [
        "# Módulo 4: Compartilhamento de dados e próximas etapas.\n",
        "\n",
        "\n",
        "Nesta seção, examinaremos como alinhar genomas montados, realizar análises filogenéticas e interpretar árvores filogenéticas para investigações de surtos.\n",
        "\n",
        "\n",
        "Como você já realizou antes:\n",
        "\n",
        "1.) Clique em Arquivo no canto superior esquerdo e selecione salvar uma cópia na unidade.\n",
        "Suas alterações não serão salvas se você não executar esta etapa.\n",
        "\n",
        "2.) Clique no nome da pasta de trabalho no canto superior esquerdo e substitua \"Cópia de\" pelo seu nome completo.\n",
        "\n",
        "Você enviará o arquivo do notebook baixado como prova de conclusão deste módulo."
      ]
    },
    {
      "attachments": {},
      "cell_type": "markdown",
      "metadata": {
        "id": "MnWOPj8O9Dc9"
      },
      "source": [
        "# **Parte 1**: Filogenética e interpretação"
      ]
    },
    {
      "attachments": {},
      "cell_type": "markdown",
      "metadata": {
        "id": "9jVnQBVtt9t_"
      },
      "source": [
        "## Vamos instalar os pacotes de análise necessários.\n",
        "\n",
        "Para esta parte, usaremos:\n",
        "**seqtk** para avaliar a qualidade do genoma (https://github.com/lh3/seqtk)\n",
        "**Mafft** para alinhamento do genoma (https://mafft.cbrc.jp/alignment/software/)\n",
        "**snp-site** para avaliação rápida da diferença de SNP (https://github.com/sanger-pathogens/snp-sites)\n",
        "**Fasttree** para construção de árvore filogenética (http://www.microbesonline.org/fasttree/)\n",
        "**Phylo** do biopython para visualização rápida da árvore (https://biopython.org/wiki/Phylo). *Nota*: existem muitos programas de visualização de árvores, os mais usados ​​são ggtree(R), ete3 (python) e itol (https://itol.embl.de/).\n",
        "\n",
        "conta microreact (https://microreact.org/), que você pode configurar/fazer login com sua conta do Google."
      ]
    },
    {
      "cell_type": "code",
      "execution_count": null,
      "metadata": {
        "colab": {
          "base_uri": "https://localhost:8080/"
        },
        "collapsed": true,
        "id": "TScBu-_j7MQ-",
        "outputId": "6e87eb5e-ee6b-4c86-d131-b7db2095d64f"
      },
      "outputs": [
        {
          "name": "stdout",
          "output_type": "stream",
          "text": [
            "Python 3.7.15\n"
          ]
        }
      ],
      "source": [
        "!python --version"
      ]
    },
    {
      "cell_type": "code",
      "execution_count": null,
      "metadata": {
        "id": "uUCA4PN6Z9zf"
      },
      "outputs": [],
      "source": [
        "!pip install -q condacolab\n",
        "import condacolab\n",
        "condacolab.install()"
      ]
    },
    {
      "cell_type": "code",
      "execution_count": null,
      "metadata": {
        "id": "bdW6qL0n2j2B"
      },
      "outputs": [],
      "source": [
        "!conda install -c conda-forge biopython"
      ]
    },
    {
      "cell_type": "code",
      "execution_count": null,
      "metadata": {
        "id": "r_BfX1pMbV2G"
      },
      "outputs": [],
      "source": [
        "!conda install -c bioconda mafft snp-sites fasttree seqtk snp-dists\n"
      ]
    },
    {
      "attachments": {},
      "cell_type": "markdown",
      "metadata": {
        "id": "MIUdD5K5vwoZ"
      },
      "source": [
        "## Baixe o conjunto de dados a ser analisado.\n",
        "\n",
        "Existem três conjuntos de dados associados a este módulo. Os dois primeiros conjuntos de dados são exemplos nos slides de instrução. O último conjunto de dados é o conjunto de dados de montagem. Analisar os conjuntos de dados de exemplo juntamente com os vídeos de instrução fornecerá a experiência necessária para analisar o conjunto de dados de avaliação."
      ]
    },
    {
      "cell_type": "code",
      "execution_count": null,
      "metadata": {
        "id": "iD1qs04Uwqhw"
      },
      "outputs": [],
      "source": [
        "!wget https://wcs_data_transfer.cog.sanger.ac.uk/Module4_data_zip.zip\n",
        "!unzip Module4_data_zip.zip"
      ]
    },
    {
      "attachments": {},
      "cell_type": "markdown",
      "metadata": {
        "id": "qo68sS-ew1aI"
      },
      "source": [
        "### Conjunto de dados 1"
      ]
    },
    {
      "attachments": {},
      "cell_type": "markdown",
      "metadata": {
        "id": "uE3delhayu1x"
      },
      "source": [
        "Primeiro vamos avaliar a qualidade do genoma para ver se os genomas são bons o suficiente para análise. Para SARs_CoV2, estamos interessados ​​principalmente no número de Ns. O pacote que usaremos é o seqtk comp, que fornece muitas estatísticas para um determinado arquivo de sequência no formato fasta.\n",
        "\n",
        "Formato de saída: chr, comprimento, #A, #C, #G, #T, #2, #3, #4, #CpG, #tv, #ts, #CpG-ts\n",
        "\n",
        "9ª coluna, #4 é o número de Ns, 4 ambiguidades, ou seja, A, G, T ou C.\n",
        "\n",
        "Se você separou arquivos fasta, pode ser mais fácil combiná-los. Caso contrário, você terá que  analisar os arquivos do genoma separadamente."
      ]
    },
    {
      "cell_type": "code",
      "execution_count": null,
      "metadata": {
        "id": "LXmAbKCFw9e4"
      },
      "outputs": [],
      "source": [
        "O comando #cat (concatenar) combina os fastas em um arquivo\n",
        "#seqtk comp analisa as informações da sequência\n",
        "#cut -f 1,9 seleciona a coluna 1 e 9, as informações que precisamos.\n",
        "!cat Module4_data/dataset_1_flight/20CV*.fasta > dataset_1_flight_combined.fasta\n",
        "!seqtk comp dataset_1_flight_combined.fasta | cut -f 1,9 > dataset_1_quality.tsv"
      ]
    },
    {
      "cell_type": "code",
      "execution_count": null,
      "metadata": {
        "id": "JhddkUIM0ca7"
      },
      "outputs": [],
      "source": [
        "!cat dataset_1_quality.tsv"
      ]
    },
    {
      "attachments": {},
      "cell_type": "markdown",
      "metadata": {
        "id": "MMRXJ12A0ood"
      },
      "source": [
        "A qualidade parece boa, 20CV0410 não é tão boa quanto o resto. Tem 1140 bases ambíguas, mas é bom o suficiente para análise. Em geral, exigimos 90% ou menos de **3000** Ns do genoma a ser montado para análise da árvore filogenética. No entanto, existem grupos que têm requisitos menos rigorosos, alguns chegam a 50%. Ter 70% do genoma montado é o padrão no pangolim para atribuição de linhagem."
      ]
    },
    {
      "attachments": {},
      "cell_type": "markdown",
      "metadata": {
        "id": "6RPfQ30P023Y"
      },
      "source": [
        "### Alinhamento\n",
        "\n",
        "Usaremos mafft para alinhamento. É bastante rápido e bastante preciso.\n",
        "\n",
        "Existem muitas opções para alinhar sequências em mafft. --auto é uma boa opção onde o próprio programa escolhe o algoritmo mais eficiente (bom equilíbrio entre velocidade e precisão). O alinhamento pode levar dias para sequências muito longas, se tiver optado o algoritmo mais preciso. Se você estiver alinhando sequências curtas, como uma região do gene/proteína spike, poderá usar opções mais precisas. O mafft tem bons exemplos do que usar e quando usar.\n",
        "\n",
        "Para mafft alinhar as sequências, no nosso caso, genomas inteiros, você precisa combinar as sequências que deseja alinhar em um arquivo. O bom é que você já fez isso e, como todos os genomas são bons, não precisamos excluir nenhum do alinhamento."
      ]
    },
    {
      "cell_type": "code",
      "execution_count": null,
      "metadata": {
        "id": "lctKoEKLbrVG"
      },
      "outputs": [],
      "source": [
        "!mafft --auto dataset_1_flight_combined.fasta > dataset_1_flight_aligned.fasta"
      ]
    },
    {
      "attachments": {},
      "cell_type": "markdown",
      "metadata": {
        "id": "I7F90-At1nrL"
      },
      "source": [
        "### Rápida olhada nas diferenças do genoma\n",
        "O snp-site é um software realmente bom para lhe dar uma ideia de quão intimamente relacionados estão seus genomas de interesse. Para pequenos conjuntos de dados como este, isso é muito bom. Ele analisa seu alinhamento e fornece um alinhamento SNP como padrão. ele também pode fornecer informações snp no formato VCF."
      ]
    },
    {
      "cell_type": "code",
      "execution_count": null,
      "metadata": {
        "id": "dvGvS0hkb1gO"
      },
      "outputs": [],
      "source": [
        "!snp-sites dataset_1_flight_aligned.fasta"
      ]
    },
    {
      "attachments": {},
      "cell_type": "markdown",
      "metadata": {
        "id": "HGKd8jBs2Erz"
      },
      "source": [
        "a partir dessa rápida olhada, você verá que a maioria dos genomas é indistinguível, exceto 20CV0401, que possui um SNP adicional."
      ]
    },
    {
      "attachments": {},
      "cell_type": "markdown",
      "metadata": {
        "id": "HqzQ75ai2ZHE"
      },
      "source": [
        "### Interpretação\n",
        "\n",
        "o que podemos dizer sobre um monte de genomas idênticos?\n",
        "\n",
        "Como sabemos que essas pessoas vieram no mesmo voo, podemos analisar um dos genomas usando https://genome.ucsc.edu/cgi-bin/hgPhyloPlace ou se você tiver uma conta, pode usar o programa GISAID audacity para encontrar o genoma internacional mais próximo. Baixe um genoma e tente isso com seu navegador da web.\n",
        "\n",
        "consulte a publicação https://www.ncbi.nlm.nih.gov/pmc/articles/PMC7920679/ para a análise deste conjunto de dados."
      ]
    },
    {
      "cell_type": "code",
      "execution_count": null,
      "metadata": {
        "id": "6ri4nCXd23oe"
      },
      "outputs": [],
      "source": [
        "!cat Module4_data/dataset_1_flight/dataset_1_flight_metadata.tsv"
      ]
    },
    {
      "cell_type": "markdown",
      "metadata": {
        "id": "tKMOQGcB3DH_"
      },
      "source": [
        "### Dataset 2"
      ]
    },
    {
      "cell_type": "code",
      "execution_count": null,
      "metadata": {
        "id": "cLBpOhlv3Kdv"
      },
      "outputs": [],
      "source": [
        "!seqtk comp Module4_data/dataset_2_hotel/dataset_2_quarantineHotel.fasta | cut -f 1,9 > dataset_2_quality.tsv\n",
        "!cat dataset_2_quality.tsv\n",
        "#as montagens do genoma são de boa qualidade?"
      ]
    },
    {
      "cell_type": "code",
      "execution_count": null,
      "metadata": {
        "id": "a1XMsSPI39bZ"
      },
      "outputs": [],
      "source": [
        "#Os arquivos fasta já estão concatenados.\n",
        "!mafft --auto Module4_data/dataset_2_hotel/dataset_2_quarantineHotel.fasta > dataset_2_quarantineHotel_aligned.fasta"
      ]
    },
    {
      "cell_type": "code",
      "execution_count": null,
      "metadata": {
        "id": "Xb-AHIsmcSW_"
      },
      "outputs": [],
      "source": [
        "!snp-sites dataset_2_quarantineHotel_aligned.fasta"
      ]
    },
    {
      "cell_type": "code",
      "execution_count": null,
      "metadata": {
        "id": "epp4OEf-6XL6"
      },
      "outputs": [],
      "source": [
        "#pode ver a distância snp entre pares de amostras usando snp-dist\n",
        "!snp-dists dataset_2_quarantineHotel_aligned.fasta\n"
      ]
    },
    {
      "attachments": {},
      "cell_type": "markdown",
      "metadata": {
        "id": "Xc_agJV-4dK2"
      },
      "source": [
        "O alinhamento é um pouco mais complicado com mais diferenças, precisamos de uma árvore filogenética para visualizar as relações"
      ]
    },
    {
      "cell_type": "code",
      "execution_count": null,
      "metadata": {
        "id": "QCsmOP11dLQF"
      },
      "outputs": [],
      "source": [
        "!fasttree -nt -gtr -gamma dataset_2_quarantineHotel_aligned.fasta > dataset_2_quarantineHotel_aligned.nwk"
      ]
    },
    {
      "cell_type": "code",
      "execution_count": null,
      "metadata": {
        "id": "mdiGRYRv4yTP"
      },
      "outputs": [],
      "source": [
        "!cat dataset_2_quarantineHotel_aligned.nwk\n",
        "#como você pode ver é muito difícil interpretar este formato sem visualizar em forma de árvore"
      ]
    },
    {
      "cell_type": "code",
      "execution_count": null,
      "metadata": {
        "id": "Kd9qVlnE-4wX"
      },
      "outputs": [],
      "source": [
        "from Bio import Phylo\n",
        "\n",
        "tree = Phylo.read(\"dataset_2_quarantineHotel_aligned.nwk\", \"newick\")\n",
        "print(\"tree\")\n",
        "Phylo.draw_ascii(tree)\n"
      ]
    },
    {
      "attachments": {},
      "cell_type": "markdown",
      "metadata": {
        "id": "U_AzaC1J3Rw4"
      },
      "source": [
        "### Interpretação\n",
        "\n",
        "Este conjunto de dados é sobre uma incursão e disseminação para a comunidade a partir do hotel de quarentena. O que podemos dizer sobre essa árvore? Acompanhe a publicação e o vídeo de instruções. Metadados associados ao caso em dataset_2_hotel/dataset_2_quarantineHotel_metadata.tsv.\n",
        "\n",
        "\n",
        "Consulte a publicação https://www.ncbi.nlm.nih.gov/pmc/articles/PMC8084504/ para a análise deste conjunto de dados.\n",
        "\n",
        "Compare a árvore acima com a publicação, por que parece diferente?"
      ]
    },
    {
      "cell_type": "code",
      "execution_count": null,
      "metadata": {
        "id": "H5Io2x_jzsfi"
      },
      "outputs": [],
      "source": [
        "!cat Module4_data/dataset_2_hotel/dataset_2_quarantineHotel_metadata.tsv"
      ]
    },
    {
      "cell_type": "code",
      "execution_count": null,
      "metadata": {
        "id": "eCFGhUSE728C"
      },
      "outputs": [],
      "source": [
        "#Vamos adicionar o genoma de referência de 2020 ao conjunto de dados.\n",
        "!mafft --auto --add Module4_data/dataset_2_hotel/dataset_2_quarantineHotel.fasta Module4_data/dataset_2_hotel/references.fasta > dataset_2_quarantineHotel_aligned_ref.fasta"
      ]
    },
    {
      "cell_type": "code",
      "execution_count": null,
      "metadata": {
        "id": "QN1R5DaM7-pZ"
      },
      "outputs": [],
      "source": [
        "!fasttree -nt -gtr -gamma dataset_2_quarantineHotel_aligned_ref.fasta > dataset_2_quarantineHotel_aligned_ref.nwk"
      ]
    },
    {
      "attachments": {},
      "cell_type": "markdown",
      "metadata": {
        "id": "QxxCeejy_k7c"
      },
      "source": [
        "Agora, se enraizarmos a filogenia usando a referência, a árvore se parecerá mais com a publicação. Por quê?\n",
        "\n",
        "Dê uma olhada no alinhamento snp também usando snp-site. Você verá que o uso da referência permitiu a identificação de bases ancestrais, então agora sabemos que mudanças de nucleotídeos são mutações de tipo selvagem. Anteriormente, o algoritmo da árvore fazia a suposição de que a base majoritária é a sequência ancestral, o que não é correto."
      ]
    },
    {
      "cell_type": "code",
      "execution_count": null,
      "metadata": {
        "id": "30evp4Lb8QiP"
      },
      "outputs": [],
      "source": [
        "from Bio import Phylo\n",
        "\n",
        "treeOutgroup = Phylo.read(\"dataset_2_quarantineHotel_aligned_ref.nwk\", \"newick\")\n",
        "treeOutgroup.root_with_outgroup({\"name\": \"nCoV2019|Wuhan-Hu-1|MN908947|China|Wuhan|2019-12\"}) \n",
        "print(\"treeOutgroup\")\n",
        "Phylo.draw_ascii(treeOutgroup)"
      ]
    },
    {
      "attachments": {},
      "cell_type": "markdown",
      "metadata": {
        "id": "QNcABKhIBi9P"
      },
      "source": [
        "## Assista a demonstração/vídeo micoreact e nextstrain\n",
        "\n",
        "Olhar para as árvores dessa maneira é muito difícil, existem algumas boas ferramentas por aí que permitem árvores interativas e visualização de metadados.\n",
        "\n",
        "https://docs.microreact.org/\n",
        "https://nextstrain.org/community/narratives/ESR-NZ/GenomicsNarrativeSARSCoV2/aotearoa-border-incursions\n",
        "\n",
        "Projeto de demonstração de microrreação do conjunto de dados 2\n",
        "https://microreact.org/project/5ELv2rXSKKeZ8XZCFXq9Ug-dataset2hotel"
      ]
    },
    {
      "attachments": {},
      "cell_type": "markdown",
      "metadata": {
        "id": "ZApyhIf24USQ"
      },
      "source": [
        "### Outras ferramentas para conjuntos de dados maiores e construção de árvores\n",
        "Mafft, mesmo com o modelo de precisão mínima, pode ser bastante lento quando você tem milhares de genomas para alinhar. Para acelerar as coisas, você pode adicionar novos genomas a alinhamentos existentes ou dividir genomas em grupos como linhagens ou sublinhagens e, em seguida, mesclar os alinhamentos. O  mafft tem uma boa explicação desses truques e seus problemas.\n",
        "\n",
        "Nextalign é outra ferramenta que você pode usar. É super rápido! (https://docs.nextstrain.org/projects/nextclade/en/stable/user/nextalign-cli.html)\n",
        "\n",
        "igtree2 é um pacote de construção de filogenia abrangente (não baysiano) que pode testar os melhores modelos de substituição para o seu conjunto de dados, realizar análises de bootstrap, comparar filogenia etc etc. . (http://www.iqtree.org/)\n",
        "\n",
        "usher é um pacote de software que permite adicionar sequências a árvores existentes sem fazer todo o alinhamento novamente. (https://www.nature.com/articles/s41588-021-00862-7) Usamos isso quando analisamos o conjunto de dados de voo. Existem algumas advertências e problemas dos quais você precisa estar ciente. Se o alinhamento existente for realmente limpo e as sequências a serem adicionadas forem de alta qualidade, usar o usher é uma boa maneira rápida de obter alguns resultados preliminares rápidos. No entanto, ele não lida muito bem com Ns ou lacunas.\n",
        "\n",
        "Para fiolgenia baysiana cronometrada, BEAST2 é frequentemente usado. (https://www.beast2.org/) Aqui está uma boa revisão. https://www.nature.com/articles/s41559-017-0280-x"
      ]
    },
    {
      "attachments": {},
      "cell_type": "markdown",
      "metadata": {
        "id": "1ybRPOh-AeAn"
      },
      "source": [
        "### Agora estamos prontos para a tarefa\n",
        "\n",
        "As células abaixo serão verificadas.\n",
        "\n",
        "Para esta tarefa, você investigará um possível surto em uma unidade de saúde. Os genomas incluídos são de casos que ocorreram na época do surto e todos têm alguns links para o estabelecimento de saúde. Alguns casos tiveram contatos claros com outros casos conhecidos (Epi-Links com Surtos: sim) e para alguns contatos não foram encontrados (Epi-links com Surtos: não encontrados). E alguns casos são desconhecidos (Epi-links com surtos: desconhecido). Seu trabalho é usar a árvore e a data do relatório para decidir se os casos rotulados como desconhecidos devem ser mais investigados, se estão geneticamente ligados ao surto ou podem ser excluídos do surto.\n",
        "\n",
        "Você precisa:\n",
        "1) Controlar os genomas fornecidos e excluir quaisquer genomas de baixa qualidade da análise\n",
        "2) Alinhar os genomas de boa qualidade (**<3000 Ns**) e construir uma árvore filogenética\n",
        "3) Use a árvore que você gerou e os metadados fornecidos para configurar um projeto de microrreação para visualização e exame da árvore\n",
        "4) Usando os metadados fornecidos para decidir se os isolados em questão estão no surto\n",
        "5) Responda às perguntas da avaliação\n",
        "\n",
        "**dicas**\n",
        "\n",
        "você pode usar seqtk subseq para remover sequências de baixa qualidade ou pode mover (mv) as sequências de baixa qualidade para outro diretório.\n",
        "\n",
        "Use a distância snp para ver se alguns dos casos são \"muito\" diferentes do resto."
      ]
    },
    {
      "cell_type": "code",
      "execution_count": null,
      "metadata": {
        "id": "ZP35D4l7H2jj"
      },
      "outputs": [],
      "source": [
        "# Controle de qualidade dos conjuntos de genoma para ver se algum deles não é adequado para análise posterior."
      ]
    },
    {
      "cell_type": "code",
      "execution_count": null,
      "metadata": {
        "id": "p4xU5lCLUdqI"
      },
      "outputs": [],
      "source": [
        "#liste abaixo os isolados que você acha que podem não ser adequados para análise futura\n",
        "#alterar XXX para isolar numero\n",
        "!echo \"esses isolados não atendem aos padrões mínimos de qualidade: XXX e XXX\""
      ]
    },
    {
      "cell_type": "code",
      "execution_count": null,
      "metadata": {
        "id": "ULBgbxds7jqD"
      },
      "outputs": [],
      "source": [
        "#Alinhar os genomas de boa qualidade com mafft"
      ]
    },
    {
      "cell_type": "code",
      "execution_count": null,
      "metadata": {
        "id": "ehKld2sC84kl"
      },
      "outputs": [],
      "source": [
        "#Construir uma árvore filogenética com o alinhamento mafft"
      ]
    },
    {
      "cell_type": "code",
      "execution_count": null,
      "metadata": {
        "id": "Ayvie8GI9LKE"
      },
      "outputs": [],
      "source": [
        "#Visualize a árvore com Phylo\n",
        "#Lembre-se de \"from Bio import Phylo\" se ainda não o fez"
      ]
    },
    {
      "attachments": {},
      "cell_type": "markdown",
      "metadata": {
        "id": "ehSN9dkDV9t6"
      },
      "source": [
        "Agora você tem todos os arquivos necessários para criar um projeto microreact.\n",
        "Baixe sua árvore e o arquivo de metadados: surto_microreact.tsv"
      ]
    },
    {
      "attachments": {},
      "cell_type": "markdown",
      "metadata": {
        "id": "cfh3mUaMVpYi"
      },
      "source": [
        "**Carregue uma captura de tela do seu projeto de microrreação na célula abaixo**\n",
        "Você pode fazer isso clicando duas vezes na célula abaixo\n",
        "em seguida, clique no ícone de inserção de imagem, preto com montanha branca e selecione o arquivo iamge. Dependendo da imagem pode ser um pouco lento.\n",
        "A imagem deve ser salva assim que você salvar seu notebook."
      ]
    },
    {
      "attachments": {},
      "cell_type": "markdown",
      "metadata": {
        "id": "wOqlFK9LX6zz"
      },
      "source": [
        "**Insira sua captura de tela microreact aqui**\n",
        "clique duas vezes aqui."
      ]
    },
    {
      "attachments": {},
      "cell_type": "markdown",
      "metadata": {
        "id": "ALu8awW8Ynwx"
      },
      "source": [
        "**Agora que você tem o projeto microreact, será mais fácil responder às perguntas de avaliação**\n",
        "\n",
        "Opcional, use snp-dist e snp-site para ajudá-lo na análise"
      ]
    },
    {
      "attachments": {},
      "cell_type": "markdown",
      "metadata": {
        "id": "VUIrJBVYRMeV"
      },
      "source": [
        "**Salve seu caderno agora**"
      ]
    },
    {
      "attachments": {},
      "cell_type": "markdown",
      "metadata": {
        "id": "J0fZD0dfKDqV"
      },
      "source": [
        "## **Parte 2** Compartilhamento de dados\n",
        "\n",
        "Para fazer a parte 2 do módulo 4\n",
        "siga os vídeos e os slides  nas **Seções 5, 6 e 7** "
      ]
    }
  ],
  "metadata": {
    "colab": {
      "provenance": []
    },
    "kernelspec": {
      "display_name": "Python 3",
      "name": "python3"
    },
    "language_info": {
      "name": "python"
    }
  },
  "nbformat": 4,
  "nbformat_minor": 0
}
