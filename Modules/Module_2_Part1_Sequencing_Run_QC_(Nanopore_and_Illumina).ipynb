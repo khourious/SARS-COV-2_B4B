{
  "cells": [
    {
      "cell_type": "markdown",
      "metadata": {
        "id": "JyG45Qk3qQLS"
      },
      "source": [
        "## Controle de qualidade inicial para sequenciamento de genomas SARS-CoV-2 por Nanopore e Illumina \n",
        "Neste Notebook, analisaremos os resultados das execuções de sequenciamento, usando duas abordagens para sequenciar o genoma do SARS-CoV-2. Ambas são baseadas no **protocolo ARTIC**, desenvolvido pela [Rede ARTIC](https:// artic.network/ncov-2019). Para Illumina, corresponde ao protocolo ARTIC clássico, que amplifica o genoma SARS-CoV-2 em 98 fragmentos de 400 pb cada. Para Nanopore, o protocolo utilizado é denominado **\"Midnight Protocol\"** e baseia-se na amplificação de 29 fragmentos de 1200 pb sobrepostos que cobrem todo o genoma do SARS-CoV-2.\n",
        "O conteúdo do notebook pode ser resumido em:\n",
        "\n",
        "* Baixar dados\n",
        "* Instalar software e preparar ambiente\n",
        "* Realize um controle de qualidade da execução\n"
      ]
    },
    {
      "cell_type": "markdown",
      "source": [
        "# Baixe os dados"
      ],
      "metadata": {
        "id": "XpZkbJoJ0aWW"
      }
    },
    {
      "cell_type": "code",
      "source": [
        "!gdown 1JkUU3wcexm9Y532l6IbdIsdY4saMehJO ; unzip Illumina_READS.zip\n",
        "!gdown 1rRhK7H7R9aiPooqtKtT8kugnLNsqmkkR ; unzip Nanopore_READS.zip"
      ],
      "metadata": {
        "id": "ygMYpaDw0YnB"
      },
      "execution_count": null,
      "outputs": []
    },
    {
      "cell_type": "markdown",
      "source": [
        "Instalando o condacolab"
      ],
      "metadata": {
        "id": "33ZISlFh92bZ"
      }
    },
    {
      "cell_type": "code",
      "source": [
        "!pip install -q condacolab\n",
        "import condacolab\n",
        "condacolab.install()"
      ],
      "metadata": {
        "id": "jymSg1rN92Ak"
      },
      "execution_count": null,
      "outputs": []
    },
    {
      "cell_type": "markdown",
      "source": [
        "# Instalando softwares\n",
        "Instale o FastQC e o NanoPlot"
      ],
      "metadata": {
        "id": "fsIZH9hN5Ynw"
      }
    },
    {
      "cell_type": "code",
      "source": [
        "!conda install -c bioconda fastqc\n",
        "!pip install nanoplot"
      ],
      "metadata": {
        "id": "XcKwQKXw5X-n"
      },
      "execution_count": null,
      "outputs": []
    },
    {
      "cell_type": "code",
      "source": [
        "!pip install multiqc"
      ],
      "metadata": {
        "id": "lHsg9XFHEsO8"
      },
      "execution_count": null,
      "outputs": []
    },
    {
      "cell_type": "markdown",
      "source": [
        "# Formato Fastq\n",
        "\n",
        "Todos os sequenciadores produzem dados em um formato chamado **fastq**. A estrutura é mostrada abaixo. Todas as sequências com fastq são representadas por 4 linhas:\n",
        "\n",
        "```\n",
        "@SEQ_ID                   <---- SEQUENCE NAME\n",
        "AGCGTGTACTGTGCATGTCGATG   <---- SEQUENCE AS BASES\n",
        "+                         <---- SEPARATOR LINE\n",
        "%%).1***-+*''))**55CCFF   <---- ASCII QUALITY SCORES\n",
        "\n",
        "```\n",
        "\n",
        "A qualidade das sequências é representada como um caractere do código ASCII. Verifique [aqui](https://support.illumina.com/help/BaseSpace_OLH_009008/Content/Source/Informatics/BS/QualityScoreEncoding_swBS.htm) para obter uma explicação .\n",
        "Os valores numéricos correspondem aos valores de qualidade phred"
      ],
      "metadata": {
        "id": "cCKzvpK9yzmt"
      }
    },
    {
      "cell_type": "markdown",
      "source": [
        "# Controle de qualidade Illumina \n",
        "\n",
        "Usaremos o software [FastQC](https://www.bioinformatics.babraham.ac.uk/projects/fastqc/) para a análise dos resultados de uma execução do Illumina. FastQC executa uma série de análises em arquivos fastq e informe os resultados como um arquivo HTML que você abre em um navegador. Para obter ajuda em qualquer uma das seções, verifique os links a seguir.\n",
        "\n",
        "* [Estatística básica](https://www.bioinformatics.babraham.ac.uk/projects/fastqc/Help/3%20Analysis%20Modules/1%20Basic%20Statistics.html)\n",
        "* [Por qualidade de sequência base](https://www.bioinformatics.babraham.ac.uk/projects/fastqc/Help/3%20Analysis%20Modules/2%20Per%20Base%20Sequence%20Quality.html)\n" ,
        "* [Por conteúdo de sequência base](https://www.bioinformatics.babraham.ac.uk/projects/fastqc/Help/3%20Analysis%20Modules/4%20Per%20Base%20Sequence%20Content.html)\n" ,
        "* [Conteúdo GC por sequência](https://www.bioinformatics.babraham.ac.uk/projects/fastqc/Help/3%20Analysis%20Modules/5%20Per%20Sequence%20GC%20Content.html)\n" ,
        "* [Conteúdo por base N](https://www.bioinformatics.babraham.ac.uk/projects/fastqc/Help/3%20Analysis%20Modules/6%20Per%20Base%20N%20Content.html)\n" ,
        "* [Distribuição do comprimento da sequência](https://www.bioinformatics.babraham.ac.uk/projects/fastqc/Help/3%20Analysis%20Modules/7%20Sequence%20Length%20Distribution.html)\n",
        "* [Sequências duplicadas](https://www.bioinformatics.babraham.ac.uk/projects/fastqc/Help/3%20Analysis%20Modules/8%20Duplicate%20Sequences.html)\n",
        "* [Sequências super-representadas](https://www.bioinformatics.babraham.ac.uk/projects/fastqc/Help/3%20Analysis%20Modules/9%20Over-represented%20Sequences.html)\n",
        "* [Conteúdo do adaptador](https://www.bioinformatics.babraham.ac.uk/projects/fastqc/Help/3%20Analysis%20Modules/10%20Adapter%20Content.html)\n",
        "* [Conteúdo do Kmer](https://www.bioinformatics.babraham.ac.uk/projects/fastqc/Help/3%20Analysis%20Modules/11%20Kmer%20Content.html)\n",
        "* [Qualidade da sequência por bloco](https://www.bioinformatics.babraham.ac.uk/projects/fastqc/Help/3%20Analysis%20Modules/12%20Per%20Tile%20Sequence%20Quality.html)\n"
      ],
      "metadata": {
        "id": "97-AF1JnuR_4"
      }
    },
    {
      "cell_type": "markdown",
      "source": [
        "Execute fastQC a partir da linha de comando"
      ],
      "metadata": {
        "id": "dzKjsc_30R8X"
      }
    },
    {
      "cell_type": "code",
      "source": [
        "#Crie um diretório para armazenar todos os resultados do FastQC e execute o FastQC\n",
        "!mkdir Illumina_fastqc_results\n",
        "!fastqc -o Illumina_fastqc_results /content/Illumina_fastq/fastq/*"
      ],
      "metadata": {
        "id": "_AjKDOjT2SVY"
      },
      "execution_count": null,
      "outputs": []
    },
    {
      "cell_type": "markdown",
      "source": [
        "Como fizemos no módulo anterior, podemos resumir os resultados do fastqc usando multiqc"
      ],
      "metadata": {
        "id": "1gIIXG21FFMC"
      }
    },
    {
      "cell_type": "code",
      "source": [
        "!multiqc -o /content/Illumina_fastqc_results/ /content/Illumina_fastqc_results/"
      ],
      "metadata": {
        "id": "SFcigAHOGW6o"
      },
      "execution_count": null,
      "outputs": []
    },
    {
      "cell_type": "markdown",
      "source": [
        "Isso criará um arquivo de resultado HTML (`multiqc_report`) com um resumo dos relatórios FastQC.\n",
        "\n",
        "Navegar pelos resultados de cada arquivo e relatório:\n",
        "\n",
        "> **Qual amostra tem mais leituras?**\n",
        "\n",
        "> **Existe alguma distribuição de tamanhos de sequências?**"
      ],
      "metadata": {
        "id": "QWk2zIA82W7s"
      }
    },
    {
      "cell_type": "markdown",
      "source": [
        "# Controle de qualidade Nanopore "
      ],
      "metadata": {
        "id": "gEyqKnBS0NmF"
      }
    },
    {
      "cell_type": "markdown",
      "source": [
        "Execute fastQC a partir da linha de comando (na verdade, para Nanopore, FastQC não é uma boa escolha)"
      ],
      "metadata": {
        "id": "aIgMW36I562h"
      }
    },
    {
      "cell_type": "code",
      "source": [
        "!mkdir Nanopore_FastQC_report\n",
        "!fastqc -o Nanopore_FastQC_report /content/Nanopore_READS/nanopore_fastq/barcode*/*"
      ],
      "metadata": {
        "id": "ow3nIVgNa0B_"
      },
      "execution_count": null,
      "outputs": []
    },
    {
      "cell_type": "code",
      "source": [
        "!multiqc -o /content/Nanopore_FastQC_report/ /content/Nanopore_FastQC_report/"
      ],
      "metadata": {
        "id": "6B57EggvPnOC"
      },
      "execution_count": null,
      "outputs": []
    },
    {
      "cell_type": "markdown",
      "source": [
        "Executando NanoPlot para dados Nanopore"
      ],
      "metadata": {
        "id": "kofR4BYv5msu"
      }
    },
    {
      "cell_type": "code",
      "source": [
        "!NanoPlot -o nanoplot_output --fastq_rich /content/Nanopore_READS/nanopore_fastq/barcode*/*.fastq.gz "
      ],
      "metadata": {
        "id": "igxrTMCETY5r"
      },
      "execution_count": null,
      "outputs": []
    },
    {
      "cell_type": "markdown",
      "source": [
        "A saída/output estará na pasta nanoplot_output. Baixe o arquivo `NanoPlot-report.html` e navegue pelos resultados.\n",
        "\n",
        "---\n",
        "\n",
        "\n",
        "> **Quantas leituras/reads há no total?**\n",
        "\n",
        "> **Qual é o tamanho médio de leitura?**\n",
        "\n",
        "> **Como isso se compara aos resultados do Illumina?**\n",
        "\n",
        "\n"
      ],
      "metadata": {
        "id": "hgXG-7xyE5LV"
      }
    },
    {
      "cell_type": "markdown",
      "source": [
        "Não fazemos nenhum corte porque os pipelines que usaremos fazem isso para nós. Vejo você no próximo notebook..."
      ],
      "metadata": {
        "id": "iqqIK87iQ4CG"
      }
    }
  ],
  "metadata": {
    "colab": {
      "collapsed_sections": [],
      "provenance": []
    },
    "kernelspec": {
      "display_name": "Python 3",
      "name": "python3"
    }
  },
  "nbformat": 4,
  "nbformat_minor": 0
}
